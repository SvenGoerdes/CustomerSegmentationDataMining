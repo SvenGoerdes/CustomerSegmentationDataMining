{
 "cells": [
  {
   "cell_type": "markdown",
   "metadata": {},
   "source": [
    "# **<h1 align=\"center\">Data Mining 2024-25</h3>**\n",
    "## **<h3 align=\"center\">Customer Segmentation - ABCDEats Inc.</h3>**\n",
    "### **<h3 align=\"center\">Merging Perpectives</h3>**\n",
    "\n",
    "\n",
    "**Group 10 members:**<br>Alexandra Pinto - 20211599@novaims.unl.pt - 20211599<br>\n",
    "Marco Galão  - r20201545@novaims.unl.pt - r20201545<br>\n",
    "Sven Goerdes - 20240503@novaims.unl.pt - 20240503<br>\n",
    "Tim Straub  - 20240505@novaims.unl.pt - 20240505<br>"
   ]
  },
  {
   "cell_type": "markdown",
   "metadata": {},
   "source": [
    "<a id = \"toc\"></a>\n",
    "\n",
    "# Table of Contents\n",
    "\n",
    "* [1. Import the Libraries](#import_libraries)\n",
    "* [2. Import the Dataset](#import_dataset)\n",
    "* [3. Normalization](#normalization)\n",
    "* [4. RFM](#rfm)\n",
    "* [5. Merging Different Perpectives](#merge_perpectives)\n",
    "    * [5.1. Contingency Table](#contigency_table)\n",
    "    * [5.2. Manual Merging of Clusters](#manual_merg_clus)\n",
    "    * [5.3. Using Hierarchical Clustering](#hierarchical_clust)\n",
    "* [6. Cluster Analysis ](#cluster_analysis)\n",
    "* [7. Association Rules](#association_rules)\n",
    "\n",
    "\n",
    "\n",
    "\n",
    "#NOTE: I DON'T REMEMBER EXACTLY THE HYBRID APPROACHES TO DONT FOLLOW BY THE NAME, IF ITS WRONG JUST CORRECT:)\n",
    "\n",
    "\n",
    "\n"
   ]
  },
  {
   "cell_type": "markdown",
   "metadata": {},
   "source": [
    "---\n",
    "\n",
    "In this notebook, we will merge the segmentation results from two distinct perspectives: **taste** and **purchasing habits**. These two perspectives represent different customer behaviors and preferences, and combining them will allow us to develop a more holistic understanding of our customers. \n",
    "\n",
    "We will begin by merging the clusters derived from taste features with those from purchasing habits, ensuring that we create a unified dataset with both segmentation labels. Once the merge is completed, we will explore the resulting segments and evaluate their characteristics.\n",
    "\n",
    "After merging, we will apply association rule mining techniques to discover relationships between the different customer segments and their behaviors. We will also perform additional analyses, such as clustering validation and examining potential patterns within the merged segments. This process will help us uncover hidden insights and improve our segmentation strategy.\n",
    "\n",
    "---"
   ]
  },
  {
   "cell_type": "markdown",
   "metadata": {},
   "source": [
    "# 1. Import the Libraries <a class=\"anchor\" id=\"import_libraries\"></a>\n",
    "[Back to ToC](#toc)<br>"
   ]
  },
  {
   "cell_type": "code",
   "execution_count": 2,
   "metadata": {},
   "outputs": [
    {
     "data": {
      "text/plain": [
       "<module 'main' from 'c:\\\\Users\\\\xandg\\\\Ambiente de Trabalho\\\\IMS\\\\3rd year\\\\1st Semester\\\\Capstone Project\\\\OpenAI\\\\Capstone-Project\\\\CustomerSegmentationDataMining\\\\deliverables\\\\main.py'>"
      ]
     },
     "execution_count": 2,
     "metadata": {},
     "output_type": "execute_result"
    }
   ],
   "source": [
    "import pandas as pd\n",
    "import numpy as np\n",
    "import matplotlib.pyplot as plt\n",
    "import seaborn as sns\n",
    "import os\n",
    "import math\n",
    "from matplotlib.patches import RegularPolygon, Ellipse\n",
    "import json\n",
    "\n",
    "#To perform Clustering Algorithms\n",
    "from sklearn.cluster import MeanShift, estimate_bandwidth\n",
    "from scipy.cluster.hierarchy import dendrogram, linkage\n",
    "from minisom import MiniSom\n",
    "\n",
    "\n",
    "import warnings\n",
    "warnings.filterwarnings(\"ignore\")\n",
    "\n",
    "#Importing the functions created in main.py\n",
    "from main import *\n",
    "import importlib\n",
    "imported_module = importlib.import_module(\"main\")\n",
    "importlib.reload(imported_module)"
   ]
  },
  {
   "cell_type": "code",
   "execution_count": 3,
   "metadata": {},
   "outputs": [],
   "source": [
    "## Import Matplotlib functions to create MiniSOM visualizations\n",
    "\n",
    "from matplotlib.patches import RegularPolygon, Ellipse\n",
    "from mpl_toolkits.axes_grid1 import make_axes_locatable\n",
    "from matplotlib import cm, colorbar\n",
    "from matplotlib import colors as mpl_colors\n",
    "from matplotlib.colors import LinearSegmentedColormap\n",
    "\n",
    "from matplotlib.lines import Line2D\n",
    "import seaborn as sns\n",
    "\n",
    "from matplotlib import __version__ as mplver"
   ]
  },
  {
   "cell_type": "markdown",
   "metadata": {},
   "source": [
    "# 2. Import the Dataset <a class=\"anchor\" id=\"import_dataset\"></a>\n",
    "[Back to ToC](#toc)<br>\n",
    "\n",
    "In this section, we import the preprocessed dataset and set the customer_id as the index column. Also, check the first and last 5 rows of the dataset."
   ]
  },
  {
   "cell_type": "code",
   "execution_count": 4,
   "metadata": {},
   "outputs": [
    {
     "data": {
      "text/html": [
       "<div>\n",
       "<style scoped>\n",
       "    .dataframe tbody tr th:only-of-type {\n",
       "        vertical-align: middle;\n",
       "    }\n",
       "\n",
       "    .dataframe tbody tr th {\n",
       "        vertical-align: top;\n",
       "    }\n",
       "\n",
       "    .dataframe thead th {\n",
       "        text-align: right;\n",
       "    }\n",
       "</style>\n",
       "<table border=\"1\" class=\"dataframe\">\n",
       "  <thead>\n",
       "    <tr style=\"text-align: right;\">\n",
       "      <th>customer_id</th>\n",
       "      <th>1b8f824d5e</th>\n",
       "      <th>f6d1b2ba63</th>\n",
       "      <th>180c632ed8</th>\n",
       "      <th>4eb37a6705</th>\n",
       "      <th>6aef2b6726</th>\n",
       "    </tr>\n",
       "  </thead>\n",
       "  <tbody>\n",
       "    <tr>\n",
       "      <th>customer_region</th>\n",
       "      <td>2360</td>\n",
       "      <td>4660</td>\n",
       "      <td>4660</td>\n",
       "      <td>4660</td>\n",
       "      <td>8670</td>\n",
       "    </tr>\n",
       "    <tr>\n",
       "      <th>customer_age</th>\n",
       "      <td>18</td>\n",
       "      <td>38</td>\n",
       "      <td>26</td>\n",
       "      <td>20</td>\n",
       "      <td>40</td>\n",
       "    </tr>\n",
       "    <tr>\n",
       "      <th>vendor_count</th>\n",
       "      <td>2</td>\n",
       "      <td>1</td>\n",
       "      <td>2</td>\n",
       "      <td>2</td>\n",
       "      <td>2</td>\n",
       "    </tr>\n",
       "    <tr>\n",
       "      <th>product_count</th>\n",
       "      <td>5</td>\n",
       "      <td>2</td>\n",
       "      <td>3</td>\n",
       "      <td>5</td>\n",
       "      <td>2</td>\n",
       "    </tr>\n",
       "    <tr>\n",
       "      <th>chain_orders</th>\n",
       "      <td>1</td>\n",
       "      <td>2</td>\n",
       "      <td>1</td>\n",
       "      <td>0</td>\n",
       "      <td>0</td>\n",
       "    </tr>\n",
       "    <tr>\n",
       "      <th>...</th>\n",
       "      <td>...</td>\n",
       "      <td>...</td>\n",
       "      <td>...</td>\n",
       "      <td>...</td>\n",
       "      <td>...</td>\n",
       "    </tr>\n",
       "    <tr>\n",
       "      <th>prop_cui_other</th>\n",
       "      <td>0.0</td>\n",
       "      <td>0.0</td>\n",
       "      <td>0.0</td>\n",
       "      <td>0.0</td>\n",
       "      <td>0.0</td>\n",
       "    </tr>\n",
       "    <tr>\n",
       "      <th>prop_cui_street food / snacks</th>\n",
       "      <td>0.0</td>\n",
       "      <td>0.0</td>\n",
       "      <td>0.0</td>\n",
       "      <td>0.0</td>\n",
       "      <td>0.0</td>\n",
       "    </tr>\n",
       "    <tr>\n",
       "      <th>prop_cui_thai</th>\n",
       "      <td>0.0</td>\n",
       "      <td>0.0</td>\n",
       "      <td>0.0</td>\n",
       "      <td>0.0</td>\n",
       "      <td>0.0</td>\n",
       "    </tr>\n",
       "    <tr>\n",
       "      <th>generation_encoded</th>\n",
       "      <td>4</td>\n",
       "      <td>3</td>\n",
       "      <td>3</td>\n",
       "      <td>4</td>\n",
       "      <td>3</td>\n",
       "    </tr>\n",
       "    <tr>\n",
       "      <th>weekend_to_weekday_ratio</th>\n",
       "      <td>2.0</td>\n",
       "      <td>2.0</td>\n",
       "      <td>1.0</td>\n",
       "      <td>1.0</td>\n",
       "      <td>1.0</td>\n",
       "    </tr>\n",
       "  </tbody>\n",
       "</table>\n",
       "<p>91 rows × 5 columns</p>\n",
       "</div>"
      ],
      "text/plain": [
       "customer_id                   1b8f824d5e f6d1b2ba63 180c632ed8 4eb37a6705  \\\n",
       "customer_region                     2360       4660       4660       4660   \n",
       "customer_age                          18         38         26         20   \n",
       "vendor_count                           2          1          2          2   \n",
       "product_count                          5          2          3          5   \n",
       "chain_orders                           1          2          1          0   \n",
       "...                                  ...        ...        ...        ...   \n",
       "prop_cui_other                       0.0        0.0        0.0        0.0   \n",
       "prop_cui_street food / snacks        0.0        0.0        0.0        0.0   \n",
       "prop_cui_thai                        0.0        0.0        0.0        0.0   \n",
       "generation_encoded                     4          3          3          4   \n",
       "weekend_to_weekday_ratio             2.0        2.0        1.0        1.0   \n",
       "\n",
       "customer_id                   6aef2b6726  \n",
       "customer_region                     8670  \n",
       "customer_age                          40  \n",
       "vendor_count                           2  \n",
       "product_count                          2  \n",
       "chain_orders                           0  \n",
       "...                                  ...  \n",
       "prop_cui_other                       0.0  \n",
       "prop_cui_street food / snacks        0.0  \n",
       "prop_cui_thai                        0.0  \n",
       "generation_encoded                     3  \n",
       "weekend_to_weekday_ratio             1.0  \n",
       "\n",
       "[91 rows x 5 columns]"
      ]
     },
     "execution_count": 4,
     "metadata": {},
     "output_type": "execute_result"
    }
   ],
   "source": [
    "### CHANGE THIS USING THE DATASET WITH LABELS FROM PART '2 AND 03 CLUSTERING\n",
    "df_clustering = pd.read_csv(\"../Data/df_outliers.csv\", index_col=\"customer_id\")\n",
    "df_clustering.head().T"
   ]
  },
  {
   "cell_type": "markdown",
   "metadata": {},
   "source": [
    "# 3. Normalization <a class=\"anchor\" id=\"normalization\"></a>\n",
    "[Back to ToC](#toc)<br>\n",
    "\n",
    "\n",
    "## ??? IDK IF THIS IS NEEDED AT THIS STAGE"
   ]
  },
  {
   "cell_type": "markdown",
   "metadata": {},
   "source": [
    "Let's open the json file witth the categories."
   ]
  },
  {
   "cell_type": "code",
   "execution_count": 5,
   "metadata": {},
   "outputs": [
    {
     "name": "stdout",
     "output_type": "stream",
     "text": [
      "Categories dictionary has been successfully loaded!\n",
      "{'demographics': ['customer_region', 'customer_age', 'city', 'generation_encoded'], 'economic_values': ['avg_order_value', 'customer_age'], 'purchasing_habits': ['first_order', 'chain_orders_prop', 'orders_dawn', 'orders_morning', 'orders_afternoon', 'orders_evening', 'order_recency', 'weekend_to_weekday_ratio'], 'taste': ['prop_cui_cafe', 'prop_cui_chicken dishes', 'prop_cui_chinese', 'prop_cui_indian', 'prop_cui_japanese', 'prop_cui_noodle dishes', 'prop_cui_other', 'prop_cui_street food / snacks', 'prop_cui_thai', 'health_index', 'cui_asian_spending', 'cui_western_spending'], 'categorical': ['last_promo', 'payment_method', 'promo_used', 'city']}\n"
     ]
    }
   ],
   "source": [
    "# Load the categories dictionary from the JSON file\n",
    "with open(\"categories.json\", \"r\") as file:\n",
    "    loaded_categories = json.load(file)\n",
    "\n",
    "print(\"Categories dictionary has been successfully loaded!\")\n",
    "print(loaded_categories)"
   ]
  },
  {
   "cell_type": "markdown",
   "metadata": {},
   "source": [
    "In this notebook, we will focus on clustering from the taste perspective. First, we will select the relevant features and then apply normalization using the `scaled_dataframe` function from `main.py`."
   ]
  },
  {
   "cell_type": "code",
   "execution_count": 6,
   "metadata": {},
   "outputs": [],
   "source": [
    "# df_scaled= scaled_dataframe(loaded_categories['purchasing_habits'], df_clustering)"
   ]
  },
  {
   "cell_type": "markdown",
   "metadata": {},
   "source": [
    "After applying the normalization function to the taste features, we will update the list of taste features by appending \"_normalized\" to the end of each feature name."
   ]
  },
  {
   "cell_type": "code",
   "execution_count": 7,
   "metadata": {},
   "outputs": [
    {
     "data": {
      "text/plain": [
       "['first_order_normalized',\n",
       " 'chain_orders_prop_normalized',\n",
       " 'orders_dawn_normalized',\n",
       " 'orders_morning_normalized',\n",
       " 'orders_afternoon_normalized',\n",
       " 'orders_evening_normalized',\n",
       " 'order_recency_normalized',\n",
       " 'weekend_to_weekday_ratio_normalized']"
      ]
     },
     "execution_count": 7,
     "metadata": {},
     "output_type": "execute_result"
    }
   ],
   "source": [
    "# purchasing_habits_features_normalized = [feature + '_normalized' for feature in loaded_categories['purchasing_habits']]\n",
    "# purchasing_habits_features_normalized"
   ]
  },
  {
   "cell_type": "markdown",
   "metadata": {},
   "source": [
    "# 4. RFM <a class=\"anchor\" id=\"rfm\"></a>\n",
    "[Back to ToC](#toc)<br>"
   ]
  },
  {
   "cell_type": "markdown",
   "metadata": {},
   "source": [
    "RFM (Recency, Frequency, and Monetary) analysis is a customer segmentation technique that evaluates customer behavior based on three dimensions:\n",
    "1. **Recency (R)**: How recently a customer made a purchase. More recent activity indicates a higher likelihood of engagement.\n",
    "   - **Feature**: `order_recency`\n",
    "   - **Description**: Time since the customer's last order, identifying recent engagement.\n",
    "\n",
    "2. **Frequency (F)**: How often a customer makes purchases. Frequent customers are more likely to be loyal.\n",
    "   - **Feature**: `total_orders`\n",
    "   - **Description**: Total number of orders placed, measuring customer activity.\n",
    "\n",
    "3. **Monetary (M)**: How much money a customer spends. Higher spending reflects greater customer value.\n",
    "   - **Feature**: `total_cui_spending`\n",
    "   - **Description**: Total spending by the customer, reflecting their monetary contribution.\n",
    "\n",
    "These features allow us to evaluate customer behavior and create actionable clusters to target specific segments for personalized strategies.\n"
   ]
  },
  {
   "cell_type": "code",
   "execution_count": null,
   "metadata": {},
   "outputs": [
    {
     "name": "stdout",
     "output_type": "stream",
     "text": [
      "Correlation Matrix for RFM Metrics:\n"
     ]
    },
    {
     "data": {
      "text/html": [
       "<div>\n",
       "<style scoped>\n",
       "    .dataframe tbody tr th:only-of-type {\n",
       "        vertical-align: middle;\n",
       "    }\n",
       "\n",
       "    .dataframe tbody tr th {\n",
       "        vertical-align: top;\n",
       "    }\n",
       "\n",
       "    .dataframe thead th {\n",
       "        text-align: right;\n",
       "    }\n",
       "</style>\n",
       "<table border=\"1\" class=\"dataframe\">\n",
       "  <thead>\n",
       "    <tr style=\"text-align: right;\">\n",
       "      <th></th>\n",
       "      <th>monetary_value</th>\n",
       "      <th>customer_recency</th>\n",
       "      <th>customer_frequency</th>\n",
       "    </tr>\n",
       "  </thead>\n",
       "  <tbody>\n",
       "    <tr>\n",
       "      <th>monetary_value</th>\n",
       "      <td>1.000000</td>\n",
       "      <td>0.305804</td>\n",
       "      <td>0.735328</td>\n",
       "    </tr>\n",
       "    <tr>\n",
       "      <th>customer_recency</th>\n",
       "      <td>0.305804</td>\n",
       "      <td>1.000000</td>\n",
       "      <td>0.368504</td>\n",
       "    </tr>\n",
       "    <tr>\n",
       "      <th>customer_frequency</th>\n",
       "      <td>0.735328</td>\n",
       "      <td>0.368504</td>\n",
       "      <td>1.000000</td>\n",
       "    </tr>\n",
       "  </tbody>\n",
       "</table>\n",
       "</div>"
      ],
      "text/plain": [
       "                    monetary_value  customer_recency  customer_frequency\n",
       "monetary_value            1.000000          0.305804            0.735328\n",
       "customer_recency          0.305804          1.000000            0.368504\n",
       "customer_frequency        0.735328          0.368504            1.000000"
      ]
     },
     "metadata": {},
     "output_type": "display_data"
    }
   ],
   "source": [
    "# Binning Recency, Frequency, and Monetary\n",
    "M_segmentation = pd.qcut(rfm_data['Monetary'], q=3, labels=False) +1  # High = high value\n",
    "R_segmentation = pd.qcut(rfm_data['Recency'], q=3, labels=False) +1  # Recent = better\n",
    "F_segmentation = pd.qcut(rfm_data['Frequency'], q=3, labels=False) +1  # High = frequent\n",
    "\n",
    "#Combine into RFM Segmentation\n",
    "rfm_segmentation = pd.DataFrame(\n",
    "    {'Monetary': M_segmentation, 'Recency': R_segmentation, 'Frequency': F_segmentation}\n",
    ")\n",
    "\n",
    "#Add Original Values\n",
    "rfm_segmentation['monetary_value'] = rfm_data['Monetary']\n",
    "rfm_segmentation['customer_recency'] = rfm_data['Recency']\n",
    "rfm_segmentation['customer_frequency'] = rfm_data['Frequency']\n",
    "\n",
    "# Create RFM Segment Labels\n",
    "rfm_segmentation['segment'] = (\n",
    "    rfm_segmentation['Recency'].astype(str)\n",
    "    + \"-\" + rfm_segmentation['Frequency'].astype(str)\n",
    "    + \"-\" + rfm_segmentation['Monetary'].astype(str)\n",
    ")\n",
    "\n",
    "# Calculate Correlation Matrix\n",
    "rfm_corr = rfm_segmentation[['monetary_value', 'customer_recency', 'customer_frequency']].corr()\n",
    "\n",
    "print(\"Correlation Matrix for RFM Metrics:\")\n",
    "rfm_corr\n"
   ]
  },
  {
   "cell_type": "markdown",
   "metadata": {},
   "source": [
    "\n",
    "The correlation matrix between the RFM metrics (Recency, Frequency, and Monetary) reveals the following insights:\n",
    "\n",
    "- **Monetary and Frequency** have a high correlation (r = 0.735), indicating overlap in the information they provide.\n",
    "- **Frequency and Recency** have a moderate correlation (r = 0.368).\n",
    "- **Monetary and Recency** have the lowest correlation (r = 0.306), suggesting they provide more distinct insights.\n",
    "\n",
    "To simplify the analysis and focus on the most distinct metrics, we will:\n",
    "1. Remove **Frequency** due to its high correlation with Monetary.\n",
    "2. Create a bubble plot using only **Recency** and **Monetary**, which represent distinct customer behaviors.\n",
    "\n",
    "This simplification aligns with the approach used in the previous project, where only the most relevant dimensions were retained for clustering and visualization."
   ]
  },
  {
   "cell_type": "code",
   "execution_count": null,
   "metadata": {},
   "outputs": [
    {
     "data": {
      "text/html": [
       "<div>\n",
       "<style scoped>\n",
       "    .dataframe tbody tr th:only-of-type {\n",
       "        vertical-align: middle;\n",
       "    }\n",
       "\n",
       "    .dataframe tbody tr th {\n",
       "        vertical-align: top;\n",
       "    }\n",
       "\n",
       "    .dataframe thead th {\n",
       "        text-align: right;\n",
       "    }\n",
       "</style>\n",
       "<table border=\"1\" class=\"dataframe\">\n",
       "  <thead>\n",
       "    <tr style=\"text-align: right;\">\n",
       "      <th></th>\n",
       "      <th>Monetary</th>\n",
       "      <th>Recency</th>\n",
       "      <th>Frequency</th>\n",
       "      <th>monetary_value</th>\n",
       "      <th>customer_recency</th>\n",
       "      <th>customer_frequency</th>\n",
       "    </tr>\n",
       "  </thead>\n",
       "  <tbody>\n",
       "    <tr>\n",
       "      <th>count</th>\n",
       "      <td>31236.000000</td>\n",
       "      <td>31236.000000</td>\n",
       "      <td>31236.000000</td>\n",
       "      <td>31236.000000</td>\n",
       "      <td>31236.000000</td>\n",
       "      <td>31236.000000</td>\n",
       "    </tr>\n",
       "    <tr>\n",
       "      <th>mean</th>\n",
       "      <td>1.999968</td>\n",
       "      <td>1.987899</td>\n",
       "      <td>1.848668</td>\n",
       "      <td>38.262395</td>\n",
       "      <td>0.708210</td>\n",
       "      <td>4.364931</td>\n",
       "    </tr>\n",
       "    <tr>\n",
       "      <th>std</th>\n",
       "      <td>0.816529</td>\n",
       "      <td>0.809845</td>\n",
       "      <td>0.846156</td>\n",
       "      <td>45.841673</td>\n",
       "      <td>0.257466</td>\n",
       "      <td>5.013391</td>\n",
       "    </tr>\n",
       "    <tr>\n",
       "      <th>min</th>\n",
       "      <td>1.000000</td>\n",
       "      <td>1.000000</td>\n",
       "      <td>1.000000</td>\n",
       "      <td>0.370000</td>\n",
       "      <td>0.000000</td>\n",
       "      <td>1.000000</td>\n",
       "    </tr>\n",
       "    <tr>\n",
       "      <th>25%</th>\n",
       "      <td>1.000000</td>\n",
       "      <td>1.000000</td>\n",
       "      <td>1.000000</td>\n",
       "      <td>13.030000</td>\n",
       "      <td>0.544444</td>\n",
       "      <td>2.000000</td>\n",
       "    </tr>\n",
       "    <tr>\n",
       "      <th>50%</th>\n",
       "      <td>2.000000</td>\n",
       "      <td>2.000000</td>\n",
       "      <td>2.000000</td>\n",
       "      <td>24.180000</td>\n",
       "      <td>0.777778</td>\n",
       "      <td>3.000000</td>\n",
       "    </tr>\n",
       "    <tr>\n",
       "      <th>75%</th>\n",
       "      <td>3.000000</td>\n",
       "      <td>3.000000</td>\n",
       "      <td>3.000000</td>\n",
       "      <td>45.020000</td>\n",
       "      <td>0.922222</td>\n",
       "      <td>5.000000</td>\n",
       "    </tr>\n",
       "    <tr>\n",
       "      <th>max</th>\n",
       "      <td>3.000000</td>\n",
       "      <td>3.000000</td>\n",
       "      <td>3.000000</td>\n",
       "      <td>1418.330000</td>\n",
       "      <td>1.000000</td>\n",
       "      <td>94.000000</td>\n",
       "    </tr>\n",
       "  </tbody>\n",
       "</table>\n",
       "</div>"
      ],
      "text/plain": [
       "           Monetary       Recency     Frequency  monetary_value  \\\n",
       "count  31236.000000  31236.000000  31236.000000    31236.000000   \n",
       "mean       1.999968      1.987899      1.848668       38.262395   \n",
       "std        0.816529      0.809845      0.846156       45.841673   \n",
       "min        1.000000      1.000000      1.000000        0.370000   \n",
       "25%        1.000000      1.000000      1.000000       13.030000   \n",
       "50%        2.000000      2.000000      2.000000       24.180000   \n",
       "75%        3.000000      3.000000      3.000000       45.020000   \n",
       "max        3.000000      3.000000      3.000000     1418.330000   \n",
       "\n",
       "       customer_recency  customer_frequency  \n",
       "count      31236.000000        31236.000000  \n",
       "mean           0.708210            4.364931  \n",
       "std            0.257466            5.013391  \n",
       "min            0.000000            1.000000  \n",
       "25%            0.544444            2.000000  \n",
       "50%            0.777778            3.000000  \n",
       "75%            0.922222            5.000000  \n",
       "max            1.000000           94.000000  "
      ]
     },
     "metadata": {},
     "output_type": "display_data"
    }
   ],
   "source": [
    "rfm_segmentation.describe()"
   ]
  },
  {
   "cell_type": "code",
   "execution_count": null,
   "metadata": {},
   "outputs": [
    {
     "data": {
      "image/png": "[encoded data removed]",
      "text/plain": [
       "<Figure size 640x480 with 1 Axes>"
      ]
     },
     "metadata": {},
     "output_type": "display_data"
    }
   ],
   "source": [
    "def create_2d_bubble(rf_segment, variable, multiplier, colorbubble):\n",
    "  '''\n",
    "  Creates 2-dimensional bubble plot with detailed\n",
    "  RF segment information.\n",
    "\n",
    "  Arguments:\n",
    "  - rf_segment(pd.DataFrame): Dataframe with segments\n",
    "  data.\n",
    "  - variable(str): Variable to use as bubble size.\n",
    "  - multiplier(int): Multiplier to add emphasis to the \n",
    "  bubble size.\n",
    "  - colorbubble(str): color of the bubble plot\n",
    "\n",
    "  Returns:\n",
    "  - None, but a plot is shown.\n",
    "  '''\n",
    "  fig, ax = plt.subplots()\n",
    "\n",
    "  # Create the scatter plot \n",
    "  # Multiplying by 25 just to see more difference between\n",
    "  # bubbles\n",
    "  sc = ax.scatter(rf_segment.Recency, \n",
    "            rf_segment.Frequency, \n",
    "            s=rf_segment[variable]*multiplier,\n",
    "            color=colorbubble,\n",
    "            edgecolors='black')\n",
    "\n",
    "  # Annotate plot with size\n",
    "  for i in range(len(rf_segment.Recency)):\n",
    "    ax.annotate(np.round(rf_segment[variable].iloc[i], 1),\n",
    "                (rf_segment.Recency.iloc[i]-0.05,\n",
    "                rf_segment.Frequency.iloc[i]),\n",
    "                fontsize=15\n",
    "                )\n",
    "\n",
    "  plt.title('Bubble Plot of Recency vs. Frequency Segment')\n",
    "  plt.xlabel('Recency Segment')\n",
    "  plt.ylabel('Frequency Segment')\n",
    "  plt.xticks([0,1,2,3,4])\n",
    "  plt.yticks([0,1,2,3,4])\n",
    "\n",
    "  plt.show()\n",
    "  \n",
    "# Step 1: Aggregate data for Frequency and Recency groups\n",
    "segment_size = rfm_segmentation.groupby(['Frequency', 'Recency'], as_index=False).size()\n",
    "segment_value = rfm_segmentation.groupby(['Frequency', 'Recency'], as_index=False)['monetary_value'].mean()\n",
    "\n",
    "# Merge size and monetary value\n",
    "segment_info = segment_size.merge(segment_value, on=['Frequency', 'Recency'])\n",
    "\n",
    "# Step 2: Create a bubble plot for size\n",
    "create_2d_bubble(segment_info, 'size', 1, 'lightblue')  # Bubbles sized by number of customers"
   ]
  },
  {
   "cell_type": "code",
   "execution_count": null,
   "metadata": {},
   "outputs": [
    {
     "data": {
      "image/png": "[encoded data removed]",
      "text/plain": [
       "<Figure size 640x480 with 1 Axes>"
      ]
     },
     "metadata": {},
     "output_type": "display_data"
    }
   ],
   "source": [
    "# Create a bubble plot for monetary value\n",
    "create_2d_bubble(segment_info, 'monetary_value', 50, 'lightgreen')  # Bubbles sized by average monetary value"
   ]
  },
  {
   "cell_type": "markdown",
   "metadata": {},
   "source": [
    "# 5. Merging Different Perpectives <a class=\"anchor\" id=\"merge_perpectives\"></a>\n",
    "[Back to ToC](#toc)<br>"
   ]
  },
  {
   "cell_type": "markdown",
   "metadata": {},
   "source": [
    "## 5.1. Contigency Table <a class=\"anchor\" id=\"contigency_table\"></a>\n",
    "[Back to 5. Merging Different Perpectives](#merge_perpectives)<br>"
   ]
  },
  {
   "cell_type": "code",
   "execution_count": null,
   "metadata": {},
   "outputs": [],
   "source": [
    "df_clustering['taste_labels'] = taste_labels\n",
    "df_clustering['purchasing_habits_labels'] = purchasing_habits_labels"
   ]
  },
  {
   "cell_type": "code",
   "execution_count": null,
   "metadata": {},
   "outputs": [],
   "source": [
    "#some code is missing, we still don't have the solutions"
   ]
  },
  {
   "cell_type": "code",
   "execution_count": null,
   "metadata": {},
   "outputs": [],
   "source": [
    "# Count label frequencies (contigency table)\n",
    "pd.crosstab(df_clustering['taste_labels'],\n",
    "            df_clustering['purchasing_habits_labels'])"
   ]
  },
  {
   "cell_type": "markdown",
   "metadata": {},
   "source": [
    "## 5.2. Manual Merging of Clusters <a class=\"anchor\" id=\"manual_merg_clus\"></a>\n",
    "[Back to 5. Merging Different Perpectives](#merge_perpectives)<br>"
   ]
  },
  {
   "cell_type": "code",
   "execution_count": null,
   "metadata": {},
   "outputs": [],
   "source": [
    "# Get centroids of clusters for both taste and purchasing habits\n",
    "df_centroids = df_clustering.groupby(['taste_labels', 'purchasing_habits_labels'])[loaded_categories['taste'] + loaded_categories['purchasing_habits']].mean()\n",
    "df_centroids"
   ]
  },
  {
   "cell_type": "code",
   "execution_count": null,
   "metadata": {},
   "outputs": [],
   "source": [
    "# Clusters with low frequency to be merged:\n",
    "to_merge = [(3, 2), (3, 0), (2, 2), (0, 2)] ## THIS NEEDS TO CHANGE ACCORDING TO THE PLOT \n",
    "\n",
    "# Computing the Euclidean distance matrix between the centroids\n",
    "centroid_dists = pairwise_distances(df_centroids)\n",
    "\n",
    "df_dists = pd.DataFrame(\n",
    "    centroid_dists, \n",
    "    columns=df_centroids.index, \n",
    "    index=df_centroids.index\n",
    ")\n",
    "\n",
    "# Merging each low frequency clustering (source) to the closest cluster (target)\n",
    "source_target = {}\n",
    "\n",
    "for clus in to_merge:\n",
    "    if clus not in source_target.values():\n",
    "        source_target[clus] = df_dists.loc[clus].sort_values().index[1]\n",
    "\n",
    "# New df for merging\n",
    "df_clustering_merged = df_clustering.copy()\n",
    "\n",
    "# Changing the taste_labels and purchasing_habits_labels based on source_target\n",
    "for source, target in source_target.items():\n",
    "    mask = (df_clustering_merged['taste_labels'] == source[0]) & (df_clustering_merged['purchasing_habits_labels'] == source[1])\n",
    "    df_clustering_merged.loc[mask, 'taste_labels'] = target[0]\n",
    "    df_clustering_merged.loc[mask, 'purchasing_habits_labels'] = target[1]\n",
    "\n",
    "# New contingency table\n",
    "pd.crosstab(df_clustering_merged['taste_labels'], df_clustering_merged['purchasing_habits_labels'])\n",
    "\n",
    "# Original contingency table\n",
    "pd.crosstab(df_clustering['taste_labels'], df_clustering['purchasing_habits_labels'])"
   ]
  },
  {
   "cell_type": "markdown",
   "metadata": {},
   "source": [
    "## 5.3. Using Hierarchical Clustering <a class=\"anchor\" id=\"hierarchical_clust\"></a>\n",
    "[Back to 5. Merging Different Perpectives](#merge_perpectives)<br>"
   ]
  },
  {
   "cell_type": "code",
   "execution_count": null,
   "metadata": {},
   "outputs": [],
   "source": [
    "# Using Hierarchical clustering to merge the concatenated cluster centroids\n",
    "linkage = 'ward'\n",
    "hclust = AgglomerativeClustering(linkage=linkage, metric='euclidean', distance_threshold=0, n_clusters=None)\n",
    "\n",
    "hclust_labels = hclust.fit_predict(df_centroids)\n",
    "\n",
    "# Create the counts of samples under each node (number of points being merged)\n",
    "counts = np.zeros(hclust.children_.shape[0])\n",
    "n_samples = len(hclust.labels_)\n",
    "\n",
    "for i, merge in enumerate(hclust.children_):\n",
    "    current_count = 0\n",
    "    for child_idx in merge:\n",
    "        if child_idx < n_samples:\n",
    "            current_count += 1  # leaf node\n",
    "        else:\n",
    "            current_count += counts[child_idx - n_samples]\n",
    "    counts[i] = current_count\n",
    "\n",
    "# The linkage matrix\n",
    "linkage_matrix = np.column_stack(\n",
    "    [hclust.children_, hclust.distances_, counts]\n",
    ").astype(float)\n",
    "\n",
    "# Plot the corresponding dendrogram\n",
    "sns.set()\n",
    "fig = plt.figure(figsize=(11, 5))\n",
    "y_threshold = 2.3\n",
    "\n",
    "dendrogram(linkage_matrix, \n",
    "           truncate_mode='level', \n",
    "           labels=df_centroids.index, p=5, \n",
    "           color_threshold=y_threshold, \n",
    "           above_threshold_color='k')\n",
    "\n",
    "plt.hlines(y_threshold, 0, 1000, colors=\"r\", linestyles=\"dashed\")\n",
    "plt.title(f'Hierarchical Clustering - {linkage.title()}\\'s Dendrogram', fontsize=21)\n",
    "plt.xlabel('Number of points in node (or index of point if no parenthesis)')\n",
    "plt.ylabel(f'Euclidean Distance', fontsize=13)\n",
    "plt.show()\n"
   ]
  },
  {
   "cell_type": "code",
   "execution_count": null,
   "metadata": {},
   "outputs": [],
   "source": [
    "# Re-running the Hierarchical clustering based on the correct number of clusters ###NEED TO CHANGE THIS\n",
    "hclust = AgglomerativeClustering(linkage='ward', metric='euclidean', n_clusters=7)\n",
    "hclust_labels = hclust.fit_predict(df_centroids)\n",
    "df_centroids['hclust_labels'] = hclust_labels\n",
    "\n",
    "# Mapper between concatenated clusters and hierarchical clusters\n",
    "cluster_mapper = df_centroids['hclust_labels'].to_dict()\n",
    "\n",
    "# Mapping the hierarchical clusters on the centroids to the observations\n",
    "df_clustering_merged['merged_labels'] = df_clustering_merged.apply(\n",
    "    lambda row: cluster_mapper[\n",
    "        (row['taste_labels'], row['purchasing_habits_labels'])\n",
    "    ], axis=1\n",
    ")"
   ]
  },
  {
   "cell_type": "code",
   "execution_count": null,
   "metadata": {},
   "outputs": [],
   "source": [
    "# Merged cluster centroids\n",
    "df_clustering_merged.groupby('merged_labels').mean(numeric_only=True)[loaded_categories['taste'] + loaded_categories['purchasing_habits']]\n"
   ]
  },
  {
   "cell_type": "code",
   "execution_count": null,
   "metadata": {},
   "outputs": [],
   "source": [
    "# Getting size of each final cluster\n",
    "df_counts = df_clustering_merged.groupby('merged_labels').size().to_frame()\n",
    "\n",
    "# Getting the product and behavior labels\n",
    "df_counts = df_counts.rename({v: k for k, v in cluster_mapper.items()}).reset_index()\n",
    "\n",
    "# Mapping behavior_labels and product_labels\n",
    "df_counts['taste_labels'] = df_counts['merged_labels'].apply(lambda x: x[0])\n",
    "df_counts['purchasing_habits_labels'] = df_counts['merged_labels'].apply(lambda x: x[1])\n",
    "\n",
    "# Displaying the final counts pivoted\n",
    "df_counts.pivot(values=0, index='taste_labels', columns='purchasing_habits_labels')\n"
   ]
  },
  {
   "cell_type": "markdown",
   "metadata": {},
   "source": [
    "# 6. Cluster Analysis <a class=\"anchor\" id=\"cluster_analysis\"></a>\n",
    "[Back to ToC](#toc)<br>"
   ]
  },
  {
   "cell_type": "code",
   "execution_count": null,
   "metadata": {},
   "outputs": [],
   "source": [
    "def cluster_profiles(df, label_columns, figsize, \n",
    "                     cmap=\"tab10\",\n",
    "                     compare_titles=None):\n",
    "    \"\"\"\n",
    "    Pass df with label columns of one or multiple clustering labels.\n",
    "    Then specify these label columns to perform the cluster profile according to them.\n",
    "    \"\"\"\n",
    "    \n",
    "    if compare_titles is None:\n",
    "        compare_titles = [\"\"] * len(label_columns)\n",
    "        \n",
    "    fig, axes = plt.subplots(nrows=len(label_columns), \n",
    "                             ncols=2, \n",
    "                             figsize=figsize, \n",
    "                             constrained_layout=True,\n",
    "                             squeeze=False)\n",
    "    \n",
    "    for ax, label, titl in zip(axes, label_columns, compare_titles):\n",
    "        # Filtering df to keep only relevant columns\n",
    "        drop_cols = [i for i in label_columns if i != label]\n",
    "        dfax = df.drop(drop_cols, axis=1)\n",
    "        \n",
    "        # Getting the cluster centroids and counts\n",
    "        centroids = dfax.groupby(by=label, as_index=False).mean()\n",
    "        counts = dfax.groupby(by=label, as_index=False).count().iloc[:, [0, 1]]\n",
    "        counts.columns = [label, \"counts\"]\n",
    "        \n",
    "        # Plotting parallel coordinates for cluster centroids\n",
    "        pd.plotting.parallel_coordinates(centroids, \n",
    "                                         label, \n",
    "                                         color=sns.color_palette(cmap),\n",
    "                                         ax=ax[0])\n",
    "\n",
    "        # Plotting barplot for cluster sizes (counts)\n",
    "        sns.barplot(x=label, \n",
    "                    hue=label,\n",
    "                    y=\"counts\", \n",
    "                    data=counts, \n",
    "                    ax=ax[1], \n",
    "                    palette=sns.color_palette(cmap),\n",
    "                    legend=False\n",
    "                    )\n",
    "\n",
    "        # Setting Layout\n",
    "        handles, _ = ax[0].get_legend_handles_labels()\n",
    "        cluster_labels = [\"Cluster {}\".format(i) for i in range(len(handles))]\n",
    "        ax[0].annotate(text=titl, xy=(0.95, 1.1), xycoords='axes fraction', fontsize=13, fontweight='heavy') \n",
    "        ax[0].axhline(color=\"black\", linestyle=\"--\")\n",
    "        ax[0].set_title(\"Cluster Means - {} Clusters\".format(len(handles)), fontsize=13)\n",
    "        ax[0].set_xticklabels(ax[0].get_xticklabels(), \n",
    "                              rotation=40,\n",
    "                              ha='right')\n",
    "        \n",
    "        ax[0].legend(handles, cluster_labels,\n",
    "                     loc='center left', bbox_to_anchor=(1, 0.5), title=label\n",
    "                     ) # Adaptable to number of clusters\n",
    "        \n",
    "        ax[1].set_xticks([i for i in range(len(handles))])\n",
    "        ax[1].set_xticklabels(cluster_labels)\n",
    "        ax[1].set_xlabel(\"\")\n",
    "        ax[1].set_ylabel(\"Absolute Frequency\")\n",
    "        ax[1].set_title(\"Cluster Sizes - {} Clusters\".format(len(handles)), fontsize=13)\n",
    "    \n",
    "    # plt.subplots_adjust(hspace=0.4, top=0.90)\n",
    "    plt.suptitle(\"Cluster Simple Profiling\", fontsize=23)\n",
    "    plt.show()"
   ]
  },
  {
   "cell_type": "code",
   "execution_count": null,
   "metadata": {},
   "outputs": [],
   "source": [
    "\n",
    "# Profiling each cluster (taste, purchasing habits, merged)\n",
    "cluster_profiles(\n",
    "    df = df_clustering[loaded_categories['taste'] + loaded_categories['purchasing_habits'] + ['taste_labels', 'purchasing_habits_labels', 'merged_labels']], \n",
    "    label_columns = ['taste_labels', 'purchasing_habits_labels', 'merged_labels'], \n",
    "    figsize = (28, 13), \n",
    "    compare_titles = [\"Taste Clustering\", \"Purchasing Habits Clustering\", \"Merged Clusters\"]\n",
    ")"
   ]
  },
  {
   "cell_type": "code",
   "execution_count": null,
   "metadata": {},
   "outputs": [],
   "source": [
    "##WE STILL NEED TO ADD DEMOGRAPHIC DATA TO THE CLUSTERING AND ALSO THE CATEGORICAL ONES :D"
   ]
  },
  {
   "cell_type": "markdown",
   "metadata": {},
   "source": [
    "# 7. Association Rules <a class=\"anchor\" id=\"association_rules\"></a>\n",
    "[Back to ToC](#toc)<br>"
   ]
  },
  {
   "cell_type": "markdown",
   "metadata": {},
   "source": []
  }
 ],
 "metadata": {
  "kernelspec": {
   "display_name": "DM2425",
   "language": "python",
   "name": "python3"
  },
  "language_info": {
   "codemirror_mode": {
    "name": "ipython",
    "version": 3
   },
   "file_extension": ".py",
   "mimetype": "text/x-python",
   "name": "python",
   "nbconvert_exporter": "python",
   "pygments_lexer": "ipython3",
   "version": "3.12.8"
  }
 },
 "nbformat": 4,
 "nbformat_minor": 2
}
