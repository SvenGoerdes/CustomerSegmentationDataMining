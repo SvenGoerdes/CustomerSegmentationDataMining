version https://git-lfs.github.com/spec/v1
oid sha256:8aa5cd28b22da0a3da59c3e96c0c0e0fc3919e4506fe9e5ea2be2663bc18beea
size 225058
