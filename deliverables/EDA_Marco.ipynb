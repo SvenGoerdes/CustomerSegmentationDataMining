version https://git-lfs.github.com/spec/v1
oid sha256:5e744862117d7aeebb669717ccbf9475b92b4e92c224f2b919c5de2648a302bc
size 225055
