version https://git-lfs.github.com/spec/v1
oid sha256:02fd4697f414da5d06eb81ade4cd969a441b801134fedece4ebb9d39551d2ccc
size 981619
