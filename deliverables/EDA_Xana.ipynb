version https://git-lfs.github.com/spec/v1
oid sha256:cca578bd486447dc81ef6ed7da22412a6b21ac04699591761a495b21ea97f51c
size 319710
