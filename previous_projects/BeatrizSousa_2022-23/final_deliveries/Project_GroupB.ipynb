version https://git-lfs.github.com/spec/v1
oid sha256:d8e20ca06eeed1d919e19a388473e284d0553519531a4057bd7abf3a357d0c20
size 59084899
